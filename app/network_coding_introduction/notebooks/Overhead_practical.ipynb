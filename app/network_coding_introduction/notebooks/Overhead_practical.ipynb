{
 "cells": [
  {
   "cell_type": "code",
   "execution_count": 1,
   "metadata": {},
   "outputs": [],
   "source": [
    "# Distributed under the \"STEINWURF RESEARCH LICENSE 1.0\".\n",
    "# See accompanying file LICENSE.rst or\n",
    "# http://www.steinwurf.com/license.html"
   ]
  },
  {
   "cell_type": "code",
   "execution_count": 2,
   "metadata": {},
   "outputs": [],
   "source": [
    "import os\n",
    "import sys\n",
    "import numpy as np\n",
    "import matplotlib.pyplot as plt\n",
    "import kodo"
   ]
  },
  {
   "cell_type": "markdown",
   "metadata": {},
   "source": [
    "# Overhead Due to Linear dependencies - A practical view"
   ]
  },
  {
   "cell_type": "markdown",
   "metadata": {},
   "source": [
    "In our book chapter we derived the analytical expressions of the overhead of RLNC due to linear dependencies. In this notebook, we will use KODO. We will show with a practical implementation where the linear dependencies occur during the transmission process."
   ]
  },
  {
   "cell_type": "markdown",
   "metadata": {},
   "source": [
    "We define the generation size and the size of the packets"
   ]
  },
  {
   "cell_type": "code",
   "execution_count": 3,
   "metadata": {},
   "outputs": [],
   "source": [
    "symbols = 32\n",
    "symbol_size = 160"
   ]
  },
  {
   "cell_type": "markdown",
   "metadata": {},
   "source": [
    "## Binary field size"
   ]
  },
  {
   "cell_type": "markdown",
   "metadata": {},
   "source": [
    "Lets create the factories and the encoder"
   ]
  },
  {
   "cell_type": "code",
   "execution_count": 4,
   "metadata": {},
   "outputs": [],
   "source": [
    "field = kodo.field.binary\n",
    "\n",
    "# In the following we will make an encoder/decoder factory.\n",
    "# The factories are used to build actual encoders/decoders\n",
    "encoder_factory = kodo.RLNCEncoderFactory(field, symbols, symbol_size)\n",
    "encoder = encoder_factory.build()\n",
    "encoder.set_systematic_off()\n",
    "\n",
    "decoder_factory = kodo.RLNCDecoderFactory(field, symbols, symbol_size)\n",
    "\n",
    "# Create some data to encode. In this case we make a buffer\n",
    "# with the same size as the encoder's block size (the max.\n",
    "# amount a single encoder can encode)\n",
    "data_in = bytearray(os.urandom(encoder.block_size()))\n",
    "\n",
    "# Assign the data buffer to the encoder so that we may start\n",
    "# to produce encoded symbols from it\n",
    "encoder.set_const_symbols(data_in)\n",
    "\n",
    "# Create the data buffer we will give to the decoder\n",
    "data_out = bytearray(encoder.block_size())"
   ]
  },
  {
   "cell_type": "markdown",
   "metadata": {},
   "source": [
    "Let us count the number of linear dependant packets received at each rank of the decoder using a python list"
   ]
  },
  {
   "cell_type": "code",
   "execution_count": 5,
   "metadata": {},
   "outputs": [
    {
     "name": "stdout",
     "output_type": "stream",
     "text": [
      "Processing\n",
      "Processing finished\n"
     ]
    }
   ],
   "source": [
    "print(\"Processing\")\n",
    "\n",
    "runs = 5000 # We run the encoder-decoder 1000 times to accumulate statistics\n",
    "linear_dependant_at_rank = []\n",
    "\n",
    "for i in range(runs):\n",
    "    decoder = decoder_factory.build()\n",
    "    decoder.set_mutable_symbols(data_out)\n",
    "    prev_rank = 0\n",
    "    while not decoder.is_complete():\n",
    "        # Generate an encoded packet\n",
    "        packet = encoder.write_payload()\n",
    "\n",
    "        # Pass that packet to the decoder\n",
    "        decoder.read_payload(packet)\n",
    "\n",
    "        # If the rank did not increase, it indicates a linear dependent packet.\n",
    "        # We accumulate the ranks at which a linear dependent packet was received.\n",
    "        if not decoder.rank() > prev_rank:\n",
    "            linear_dependant_at_rank.append(decoder.rank())\n",
    "        prev_rank = decoder.rank()\n",
    "\n",
    "print(\"Processing finished\")"
   ]
  },
  {
   "cell_type": "markdown",
   "metadata": {},
   "source": [
    "### Histogram of the linear dependent packets received"
   ]
  },
  {
   "cell_type": "code",
   "execution_count": 6,
   "metadata": {},
   "outputs": [
    {
     "data": {
      "image/png": "[encoded data removed]",
      "text/plain": [
       "<Figure size 432x288 with 1 Axes>"
      ]
     },
     "metadata": {
      "needs_background": "light"
     },
     "output_type": "display_data"
    }
   ],
   "source": [
    "histogram, ranks = np.histogram(linear_dependant_at_rank,\\\n",
    "                                bins=[rank for rank in range(symbols + 1)])\n",
    "histogram = np.divide(histogram, float(runs))\n",
    "\n",
    "fig, ax = plt.subplots(1,1)\n",
    "\n",
    "plt.plot(ranks[:symbols], histogram, 'r--')\n",
    "plt.bar(ranks[:symbols], histogram, facecolor='green', width=1.0, align='center')\n",
    "plt.xlim(0, symbols)\n",
    "\n",
    "\n",
    "plt.xlabel('Rank')\n",
    "plt.ylabel('Number of linear dependent packets per rank')\n",
    "\n",
    "plt.show()"
   ]
  },
  {
   "cell_type": "markdown",
   "metadata": {},
   "source": [
    "### Plot analysis\n",
    "\n",
    "Why are the linear dependent packets appearing at the end of the transmission?\n",
    "\n",
    "This is a question that we discussed in our book chapter. The probability that a packet is not innovative for the decoder is\n",
    "$$P_{r \\rightarrow r} = \\frac{1}{2^{g-r}}\\: ,$$\n",
    "where $r$ is the rank of the decoder. This probability $P_{r \\rightarrow r}$ increases when the rank increases. For the last packet, i.e., when the decoder is at rank 31, the probability that the next transmission is not innovative is $\\frac{1}{2}$. This means that on average, to increase the rank from 31 to 32, two packets are needed. Out of these two packets, one is innovative, and the second one is linear dependent. Therefore, in the histogram, you can see that there is on average one linear dependent packet before the decoder gets the full rank.\n",
    "\n",
    "\n",
    "\n",
    "#### NOTE:\n",
    "The sum of the height of the bars of the histogram is approximately $1.6$. This is the value calculated analitically in the book chapter and the other jupyter notebook."
   ]
  },
  {
   "cell_type": "code",
   "execution_count": 7,
   "metadata": {},
   "outputs": [
    {
     "data": {
      "text/plain": [
       "1.5987999999999998"
      ]
     },
     "execution_count": 7,
     "metadata": {},
     "output_type": "execute_result"
    }
   ],
   "source": [
    "histogram.sum()"
   ]
  },
  {
   "cell_type": "markdown",
   "metadata": {},
   "source": [
    "## What about a bigger field size - $GF(2^8)$"
   ]
  },
  {
   "cell_type": "code",
   "execution_count": 8,
   "metadata": {},
   "outputs": [],
   "source": [
    "field = kodo.field.binary8"
   ]
  },
  {
   "cell_type": "code",
   "execution_count": 9,
   "metadata": {},
   "outputs": [
    {
     "name": "stdout",
     "output_type": "stream",
     "text": [
      "Processing\n",
      "Processing finished\n"
     ]
    }
   ],
   "source": [
    "encoder_factory = kodo.RLNCEncoderFactory(field, symbols, symbol_size)\n",
    "encoder = encoder_factory.build()\n",
    "\n",
    "decoder_factory = kodo.RLNCDecoderFactory(field, symbols, symbol_size)\n",
    "\n",
    "# Assign the data buffer to the encoder so that we may start\n",
    "# to produce encoded symbols from it\n",
    "data_in = bytearray(os.urandom(encoder.block_size()))\n",
    "encoder.set_const_symbols(data_in)\n",
    "\n",
    "data_out = bytearray(decoder.block_size())\n",
    "\n",
    "print(\"Processing\")\n",
    "\n",
    "runs = 5000      # We run the encoder-decoder a number of times to accumulate statistic\n",
    "linear_dependant_at_rank = []\n",
    "\n",
    "for i in range(runs):\n",
    "    decoder = decoder_factory.build()\n",
    "    decoder.set_mutable_symbols(data_out)\n",
    "    prev_rank = 0\n",
    "    while not decoder.is_complete():\n",
    "        # Generate an encoded packet\n",
    "        packet = encoder.write_payload()\n",
    "\n",
    "        # Pass that packet to the decoder\n",
    "        decoder.read_payload(packet)\n",
    "\n",
    "        # If the rank did not increase, it indicates a linear dependent packet.\n",
    "        # We accumulate the ranks at which a linear dependent packet was received.\n",
    "        if not decoder.rank() > prev_rank:\n",
    "            linear_dependant_at_rank.append(decoder.rank())\n",
    "        prev_rank = decoder.rank()\n",
    "\n",
    "print(\"Processing finished\")"
   ]
  },
  {
   "cell_type": "markdown",
   "metadata": {},
   "source": [
    "### Histogram of the linear dependent packets received"
   ]
  },
  {
   "cell_type": "code",
   "execution_count": 10,
   "metadata": {},
   "outputs": [
    {
     "data": {
      "image/png": "[encoded data removed]",
      "text/plain": [
       "<Figure size 432x288 with 1 Axes>"
      ]
     },
     "metadata": {
      "needs_background": "light"
     },
     "output_type": "display_data"
    }
   ],
   "source": [
    "histogram, ranks = np.histogram(linear_dependant_at_rank,\\\n",
    "                                bins=[rank for rank in range(symbols + 1)])\n",
    "histogram = np.divide(histogram, float(runs))\n",
    "\n",
    "fig, ax = plt.subplots(1,1, sharey=True)\n",
    "\n",
    "plt.plot(ranks[:symbols], histogram, 'r--')\n",
    "plt.bar(ranks[:symbols], histogram, facecolor='green', width=1.0, align='center')\n",
    "plt.xlim(0, symbols)\n",
    "\n",
    "plt.xlabel('Rank')\n",
    "plt.ylabel('Number of redundant packets per rank')\n",
    "\n",
    "plt.show()"
   ]
  },
  {
   "cell_type": "markdown",
   "metadata": {},
   "source": [
    "### Plot analysis\n",
    "\n",
    "In this case, the probability of a non innovative packet is\n",
    "$$P_{r \\rightarrow r} = \\frac{1}{256^{g-r}}\\: .$$\n",
    "This is a very small number. Before the last transmission ($P_{r \\rightarrow r} =\\frac{1}{256}$). And all the previous transmissions before that have the same probability to a certain power (an even smaller number). Therefore, the linear dependencies in this case occur most likely at the last transmission only, and they are negligible.\n",
    "\n",
    "The tail behaviour is negligible at higher field size.\n",
    "\n",
    "**Note** that the y-axis range is different in both graphs\n",
    "\n",
    "\n",
    "#### NOTE:\n",
    "The sum of the height of the bars of the histogram is approximately $0.0039$"
   ]
  },
  {
   "cell_type": "code",
   "execution_count": 11,
   "metadata": {},
   "outputs": [
    {
     "data": {
      "text/plain": [
       "0.004"
      ]
     },
     "execution_count": 11,
     "metadata": {},
     "output_type": "execute_result"
    }
   ],
   "source": [
    "histogram.sum()"
   ]
  }
 ],
 "metadata": {
  "kernelspec": {
   "display_name": "Python 3",
   "language": "python",
   "name": "python3"
  },
  "language_info": {
   "codemirror_mode": {
    "name": "ipython",
    "version": 3
   },
   "file_extension": ".py",
   "mimetype": "text/x-python",
   "name": "python",
   "nbconvert_exporter": "python",
   "pygments_lexer": "ipython3",
   "version": "3.7.4"
  }
 },
 "nbformat": 4,
 "nbformat_minor": 1
}
